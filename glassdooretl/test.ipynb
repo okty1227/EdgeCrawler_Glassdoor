{
 "cells": [
  {
   "cell_type": "code",
   "execution_count": 23,
   "metadata": {},
   "outputs": [
    {
     "name": "stdout",
     "output_type": "stream",
     "text": [
      "执行时间: 0.0003554999711923301 秒\n",
      "text\n",
      "0\n"
     ]
    },
    {
     "name": "stdout",
     "output_type": "stream",
     "text": [
      "1\n",
      "2\n",
      "3\n",
      "text\n",
      "4\n",
      "5\n",
      "6\n",
      "7\n",
      "8\n",
      "9\n"
     ]
    }
   ],
   "source": [
    "import asyncio\n",
    "from time import perf_counter\n",
    "import time\n",
    "start_time = perf_counter()\n",
    "\n",
    "async def boo(): \n",
    "    for i in range(10):\n",
    "        print(i)\n",
    "        await asyncio.sleep(0.25)\n",
    "\n",
    "async def foo(text): \n",
    "    print(text)    \n",
    "    await asyncio.sleep(1)\n",
    "    print(text)\n",
    "    \n",
    "async def main():\n",
    "    task1 = asyncio.create_task(foo('text'))\n",
    "    task2 = asyncio.create_task(boo())\n",
    "    \n",
    "await main() \n",
    "\n",
    "end_time = perf_counter()\n",
    "\n",
    "# 计算执行时间\n",
    "execution_time = end_time - start_time\n",
    "\n",
    "print(f\"执行时间: {execution_time} 秒\")"
   ]
  },
  {
   "cell_type": "code",
   "execution_count": 27,
   "metadata": {},
   "outputs": [
    {
     "data": {
      "text/plain": [
       "False"
      ]
     },
     "execution_count": 27,
     "metadata": {},
     "output_type": "execute_result"
    }
   ],
   "source": [
    "[1] is False"
   ]
  },
  {
   "cell_type": "code",
   "execution_count": 28,
   "metadata": {},
   "outputs": [
    {
     "name": "stdout",
     "output_type": "stream",
     "text": [
      "Location: Indianapolis IN, Mason OH, Atlanta GA, Norfolk VA, Tampa FL\n",
      "\n",
      "Hours: M - F East coast Hours of Operation\n",
      "\n",
      "Travel: Hybrid 1 ( 1-2 Days onsite per week)\n",
      "\n",
      "\n",
      "Position Overview:\n",
      "\n",
      "Responsible for serving as the liaison between the business and IT in translating complex business needs into application software. This role will be working primarily for business operations team and not specifically IT.\n",
      "\n",
      "How You Will Make an Impact:\n",
      "\n",
      "Conducting Data analysis and issue resolution regularly\n",
      "\n",
      "Vendor interaction and stakeholder management responsibilities\n",
      "\n",
      "Analyzes complex end user needs to determine optimal means of meeting those needs\n",
      "\n",
      "Determines specific business application software requirements to address complex business needs\n",
      "\n",
      "Develops project plans and identifies and coordinates resources, involving those outside the unit\n",
      "\n",
      "Works with programming staff to ensure requirements will be incorporated into system design and testing\n",
      "\n",
      "Acts as a resource to users of the software to address questions/issues\n",
      "\n",
      "May provide direction and guidance to team members and serves as an expert for the team\n",
      "\n",
      "Required Qualifications:\n",
      "\n",
      "Requires a BA/BS and minimum of 5 years business analysis experience; or any combination of education and experience which would provide an equivalent background.\n",
      "\n",
      "Preferred Qualifications:\n",
      "\n",
      "Data analysis and issue resolution experience\n",
      "\n",
      "Healthcare experience is a must\n",
      "\n",
      "PBM (Pharmacy Benefit Management) Claims experience is a must\n",
      "\n",
      "Accums experience is a must\n",
      "\n",
      "Advanced SQL experience is a must\n",
      "\n",
      "Teradata experience is a must\n",
      "\n",
      "Experience working in an Agile environment strongly preferred\n",
      "\n",
      "If this job is assigned to any Government Business Division entity, the applicant and incumbent fall under a 'sensitive position' work designation and may be subject to additional requirements beyond those associates outside Government Business Divisions. Requirements include but are not limited to more stringent and frequent background checks and/or government clearances, segregation of duties principles, role specific training, monitoring of daily job functions, and sensitive data handling instructions. Associates in these jobs must follow the specific policies, procedures, guidelines, etc. as stated by the Government Business Division in which they are employed.\n",
      "\n",
      "Please be advised that Elevance Health only accepts resumes for compensation from agencies that have a signed agreement with Elevance Health. Any unsolicited resumes, including those submitted to hiring managers, are deemed to be the property of Elevance Health.\n",
      "\n",
      "Who We Are\n",
      "\n",
      "Elevance Health is a health company dedicated to improving lives and communities - and making healthcare simpler. We are a Fortune 25 company with a longstanding history in the healthcare industry, looking for leaders at all levels of the organization who are passionate about making an impact on our members and the communities we serve.\n",
      "\n",
      "How We Work\n",
      "\n",
      "At Elevance Health, we are creating a culture that is designed to advance our strategy but will also lead to personal and professional growth for our associates. Our values and behaviors are the root of our culture. They are how we achieve our strategy, power our business outcomes and drive our shared success - for our consumers, our associates, our communities and our business.\n",
      "\n",
      "We offer a range of market-competitive total rewards that include merit increases, paid holidays, Paid Time Off, and incentive bonus programs (unless covered by a collective bargaining agreement), medical, dental, vision, short and long term disability benefits, 401(k) +match, stock purchase plan, life insurance, wellness programs and financial education resources, to name a few.\n",
      "\n",
      "Elevance Health operates in a Hybrid Workforce Strategy. Unless specified as primarily virtual by the hiring manager, associates are required to work at an Elevance Health location at least once per week, and potentially several times per week. Specific requirements and expectations for time onsite will be discussed as part of the hiring process. Candidates must reside within 50 miles or 1-hour commute each way of a relevant Elevance Health location.\n",
      "\n",
      "The health of our associates and communities is a top priority for Elevance Health. We require all new candidates in certain patient/member-facing roles to become vaccinated against COVID-19. If you are not vaccinated, your offer will be rescinded unless you provide an acceptable explanation. Elevance Health will also follow all relevant federal, state and local laws.\n",
      "\n",
      "Elevance Health is an Equal Employment Opportunity employer and all qualified applicants will receive consideration for employment without regard to age, citizenship status, color, creed, disability, ethnicity, genetic information, gender (including gender identity and gender expression), marital status, national origin, race, religion, sex, sexual orientation, veteran status or any other status or condition protected by applicable federal, state, or local laws. Applicants who require accommodation to participate in the job application process may contact elevancehealthjobssupport@elevancehealth.comfor assistance.\n"
     ]
    }
   ],
   "source": [
    "print('''Location: Indianapolis IN, Mason OH, Atlanta GA, Norfolk VA, Tampa FL\\n\\nHours: M - F East coast Hours of Operation\\n\\nTravel: Hybrid 1 ( 1-2 Days onsite per week)\\n\\n\\nPosition Overview:\\n\\nResponsible for serving as the liaison between the business and IT in translating complex business needs into application software. This role will be working primarily for business operations team and not specifically IT.\\n\\nHow You Will Make an Impact:\\n\\nConducting Data analysis and issue resolution regularly\\n\\nVendor interaction and stakeholder management responsibilities\\n\\nAnalyzes complex end user needs to determine optimal means of meeting those needs\\n\\nDetermines specific business application software requirements to address complex business needs\\n\\nDevelops project plans and identifies and coordinates resources, involving those outside the unit\\n\\nWorks with programming staff to ensure requirements will be incorporated into system design and testing\\n\\nActs as a resource to users of the software to address questions/issues\\n\\nMay provide direction and guidance to team members and serves as an expert for the team\\n\\nRequired Qualifications:\\n\\nRequires a BA/BS and minimum of 5 years business analysis experience; or any combination of education and experience which would provide an equivalent background.\\n\\nPreferred Qualifications:\\n\\nData analysis and issue resolution experience\\n\\nHealthcare experience is a must\\n\\nPBM (Pharmacy Benefit Management) Claims experience is a must\\n\\nAccums experience is a must\\n\\nAdvanced SQL experience is a must\\n\\nTeradata experience is a must\\n\\nExperience working in an Agile environment strongly preferred\\n\\nIf this job is assigned to any Government Business Division entity, the applicant and incumbent fall under a 'sensitive position' work designation and may be subject to additional requirements beyond those associates outside Government Business Divisions. Requirements include but are not limited to more stringent and frequent background checks and/or government clearances, segregation of duties principles, role specific training, monitoring of daily job functions, and sensitive data handling instructions. Associates in these jobs must follow the specific policies, procedures, guidelines, etc. as stated by the Government Business Division in which they are employed.\\n\\nPlease be advised that Elevance Health only accepts resumes for compensation from agencies that have a signed agreement with Elevance Health. Any unsolicited resumes, including those submitted to hiring managers, are deemed to be the property of Elevance Health.\\n\\nWho We Are\\n\\nElevance Health is a health company dedicated to improving lives and communities - and making healthcare simpler. We are a Fortune 25 company with a longstanding history in the healthcare industry, looking for leaders at all levels of the organization who are passionate about making an impact on our members and the communities we serve.\\n\\nHow We Work\\n\\nAt Elevance Health, we are creating a culture that is designed to advance our strategy but will also lead to personal and professional growth for our associates. Our values and behaviors are the root of our culture. They are how we achieve our strategy, power our business outcomes and drive our shared success - for our consumers, our associates, our communities and our business.\\n\\nWe offer a range of market-competitive total rewards that include merit increases, paid holidays, Paid Time Off, and incentive bonus programs (unless covered by a collective bargaining agreement), medical, dental, vision, short and long term disability benefits, 401(k) +match, stock purchase plan, life insurance, wellness programs and financial education resources, to name a few.\\n\\nElevance Health operates in a Hybrid Workforce Strategy. Unless specified as primarily virtual by the hiring manager, associates are required to work at an Elevance Health location at least once per week, and potentially several times per week. Specific requirements and expectations for time onsite will be discussed as part of the hiring process. Candidates must reside within 50 miles or 1-hour commute each way of a relevant Elevance Health location.\\n\\nThe health of our associates and communities is a top priority for Elevance Health. We require all new candidates in certain patient/member-facing roles to become vaccinated against COVID-19. If you are not vaccinated, your offer will be rescinded unless you provide an acceptable explanation. Elevance Health will also follow all relevant federal, state and local laws.\\n\\nElevance Health is an Equal Employment Opportunity employer and all qualified applicants will receive consideration for employment without regard to age, citizenship status, color, creed, disability, ethnicity, genetic information, gender (including gender identity and gender expression), marital status, national origin, race, religion, sex, sexual orientation, veteran status or any other status or condition protected by applicable federal, state, or local laws. Applicants who require accommodation to participate in the job application process may contact elevancehealthjobssupport@elevancehealth.comfor assistance.''')"
   ]
  },
  {
   "cell_type": "code",
   "execution_count": 62,
   "metadata": {},
   "outputs": [],
   "source": [
    "test_input =[{'position_info': 'Elevance Health\\n3.7\\nBusiness Operations Analyst II\\nIndianapolis, IN', 'if_easy_apply': 'Apply on employer site', 'jd': 'Location: Indianapolis IN, Mason OH, Atlanta GA, Norfolk VA, Tampa FL\\n\\nHours: M - F East coast Hours of Operation\\n\\nTravel: Hybrid 1 (1-2 Days onsite per week)\\n\\n\\nPosition Overview:\\n\\nResponsible for serving as the liaison between the business and IT in translating complex business needs into application software. This role will be working primarily for business operations team and not specifically IT. This role is created to support the claims audit function of PBM operations.\\n\\nHow You Will Make an Impact:\\n\\nWill be conducting Data analysis and issue resolution regularly\\n\\nWorking with Claims audit responsibilities frequently\\n\\nStatus reporting responsibilities to various levels of management\\n\\nAnalyzes business needs to determine optimal means of meeting those needs\\n\\nDetermines specific business application software requirements to address specific business needs\\n\\nWorks with programming staff to ensure requirements will be incorporated into system design and testing\\n\\nActs as liaison with users of the software to address questions/issues\\n\\nRequired Qualifications:\\n\\nRequires a BA/BS and minimum of 3 years related business analysis experience, or any combination of education and experience, which would provide an equivalent background.\\n\\nPreferred Qualifications:\\n\\nExperience working in an Agile environment is a must\\n\\nPBM Claims audit experience is a must\\n\\nClaims and benefits review experience preferred\\n\\nData analysis and issue resolution experience\\n\\nSQL and Teradata experience preferred\\n\\nHealthcare experience strongly preferred\\n\\nHealthcare Vendor interaction experience strongly preferred\\n\\nFor URAC accredited areas, the following professional competencies apply: Associates in this role are expected to have strong oral, written and interpersonal communication skills, problem-solving skills, facilitation skills, and analytical skills.\\n\\nIf this job is assigned to any Government Business Division entity, the applicant and incumbent fall under a `sensitive position¿ work designation and may be subject to additional requirements beyond those associates outside Government Business Divisions. Requirements include but are not limited to more stringent and frequent background checks and/or government clearances, segregation of duties principles, role specific training, monitoring of daily job functions, and sensitive data handling instructions. Associates in these jobs must follow the specific policies, procedures, guidelines, etc. as stated by the Government Business Division in which they are employed.\\n\\nPlease be advised that Elevance Health only accepts resumes for compensation from agencies that have a signed agreement with Elevance Health. Any unsolicited resumes, including those submitted to hiring managers, are deemed to be the property of Elevance Health.\\n\\nWho We Are\\n\\nElevance Health is a health company dedicated to improving lives and communities - and making healthcare simpler. We are a Fortune 25 company with a longstanding history in the healthcare industry, looking for leaders at all levels of the organization who are passionate about making an impact on our members and the communities we serve.\\n\\nHow We Work\\n\\nAt Elevance Health, we are creating a culture that is designed to advance our strategy but will also lead to personal and professional growth for our associates. Our values and behaviors are the root of our culture. They are how we achieve our strategy, power our business outcomes and drive our shared success - for our consumers, our associates, our communities and our business.\\n\\nWe offer a range of market-competitive total rewards that include merit increases, paid holidays, Paid Time Off, and incentive bonus programs (unless covered by a collective bargaining agreement), medical, dental, vision, short and long term disability benefits, 401(k) +match, stock purchase plan, life insurance, wellness programs and financial education resources, to name a few.\\n\\nElevance Health operates in a Hybrid Workforce Strategy. Unless specified as primarily virtual by the hiring manager, associates are required to work at an Elevance Health location at least once per week, and potentially several times per week. Specific requirements and expectations for time onsite will be discussed as part of the hiring process. Candidates must reside within 50 miles or 1-hour commute each way of a relevant Elevance Health location.\\n\\nThe health of our associates and communities is a top priority for Elevance Health. We require all new candidates in certain patient/member-facing roles to become vaccinated against COVID-19. If you are not vaccinated, your offer will be rescinded unless you provide an acceptable explanation. Elevance Health will also follow all relevant federal, state and local laws.\\n\\nElevance Health is an Equal Employment Opportunity employer and all qualified applicants will receive consideration for employment without regard to age, citizenship status, color, creed, disability, ethnicity, genetic information, gender (including gender identity and gender expression), marital status, national origin, race, religion, sex, sexual orientation, veteran status or any other status or condition protected by applicable federal, state, or local laws. Applicants who require accommodation to participate in the job application process may contact elevancehealthjobssupport@elevancehealth.comfor assistance.\\n\\nShow more', 'avg_salary': '$68,167\\n/yr (est.)', 'size': '10000+ Employees', 'found_year': '2004', 'industry': 'Health Care Services & Hospitals', 'sector': 'Healthcare'}, {'position_info': 'Clopay Corporation\\n2.8\\nOracle Configurator Analyst\\nTroy, OH', 'if_easy_apply': 'Easy Apply', 'jd': \"Clopay Corporation is North America's largest residential garage door manufacturer. We pride ourselves on delivering exceptional customer service as well as unsurpassed quality and innovative products. Our employees are the cornerstone of our success and we are looking for dynamic individuals to join our team. We have an excellent opportunity for an Oracle Business Analyst in our Troy, Ohio manufacturing location.\\n\\nIn this position, the successful candidate will perform the following job responsibilities:\\n\\nParticipate in Oracle ERP system implementation and design, including the development and ongoing maintenance of configuration rules using the Oracle Product Configurator.\\nEnsure optimum configuration model design to satisfy “Assemble To Order” (ATO) and “Pick to Order” (PTO) business requirements of manufacturing and distribution locations.\\nAnalyze both large and small Engineering projects to develop appropriate solutions.\\nUnderstand the function of all Oracle item attributes, and ensure that they are correctly assigned to achieve expected behavior in all related Oracle modules.\\nCreate SQL queries to systematically identify item attribute settings, and to confirm changes and corrections.\\nUnderstand all technical aspects of the Oracle Product Configurator, including new Fusion engine and user interfaces.\\nDesign and develop configurator extensions, as necessary, to address complex problems that cannot be solved using standard Oracle Product Configurator functionality.\\nHave a detailed understanding of Oracle iStore; in particular, its interactions with the Oracle Product Configurator.\\nBe familiar with all Engineering documents (including AutoCad drawings), and use them as a reference for product specifications. Make suggestions for improvement or corrections to these documents whenever possible.\\nActively participate in the Engineering Change Order (ECO) process and ensure that agreed-upon implementation dates are met.\\nEnsure the accuracy of all standard item bills of materials. Plan updates appropriately to ensure that mass changes are made efficiently and correctly.\\nCreate test plans, cases, and scripts to ensure that item, bill of material, and configuration rule changes can be verified thoroughly and efficiently. Follow Oracle Application Implementation Methodology and ensure that Sarbanes-Oxley documentation and testing requirements are met. User version control system (Visual SafeSource) for Oracle Product Configurator extensions.\\nPerform technical service functions, including trouble-shooting and the debugging of system issues.\\nParticipate in system reengineering, in relation to product configuration and bills of material. Originate new ideas whenever possible.\\nHave working knowledge of Oracle modules (Order Management, Purchasing, Planning (ASCP), Work in Process (WIP), Accounting, Advanced Pricing, etc.) that use item and bill of material data. Understand the function and data requirements of CBPC’s customer shop floor control system, and how it interfaces with Oracle. Work closely with IT to support and improve manufacturing automation.\\nMaintain equipment, software, and supplies necessary to perform assigned duties and make recommendations for additional equipment or software (such as upgrades) as needed.\\nBe familiar with basic AutoCad and AutoVue functionality, in particular as they pertain to CBPC’s automated shop drawing program.\\nAssume responsibilities for projects as assigned by Manager.\\nTravel as required.\\n\\nJob Requirements:\\n\\nBachelor’s degree in Engineering, Computer Science, Mathematics or other technical degree or equivalent education plus experience.\\nMinimum of 5 years’ experience in engineering related business system environment, such as Product Data Management, Product Configuration, and/or ERP business system design and implementation.\\nAbility to read, write, and interpret engineering documents and drawings.\\nMust be able to translate engineering/computer terminology into understandable English (both written and oral) for customers, Marketing, Sales and others.\\nAbility to document procedures and processes (using Oracle Application Implementation Methodology) including test cases and script.\\nStrong math skills.\\nExperience using the following languages: SQL, PL/SQL, and Java.\\n\\nWe offer competitive pay, a comprehensive benefits package including Medical, Dental, 401(k), Short-Term Disability, Life Insurance and Educational Assistance. Please visit our website at\\nURL blocked - click to apply to learn more about our company. An Equal Opportunity Employer, providing a d\\nLocation\\nTroy, OH (Onsite)\\nJob Type\\nEngineering, Information Technology, Manufacturing\\nExperience\\nNot Specified\\nDate Posted\\n05/08/2023\\n\\nJob Type: Full-time\\n\\nPay: $90,000.00 - $130\\nLocation\\nTroy, OH (Onsite)\\nJob Type\\nEngineering, Information Technology, Manufacturing\\nExperience\\nNot Specified\\nDate Posted\\n05/08/2023\\n\\nJob Type: Full-time\\n\\nPay: $90,000.00 - $130,000.00 per year\\n\\nBenefits:\\n\\n401(k)\\n401(k) matching\\nDental insurance\\nEmployee assistance program\\nEmployee discount\\nFlexible spending account\\nHealth insurance\\nHealth savings account\\nLife insurance\\nPaid time off\\nProfessional development assistance\\nReferral program\\nTuition reimbursement\\nVision insurance\\n\\nSchedule:\\n\\n8 hour shift\\nDay shift\\nMonday to Friday\\n\\nWork Location: In person\\n\\nShow more\", 'avg_salary': '$110,000\\n/yr (est.)', 'size': '1001 to 5000 Employees', 'found_year': '1986', 'industry': 'Home Furniture & Housewares Stores', 'sector': 'Retail & Wholesale'}, {'position_info': 'Elevance Health\\n3.7\\nBusiness Operations Analyst III\\nIndianapolis, IN', 'if_easy_apply': 'Apply on employer site', 'jd': \"Location: Indianapolis IN, Mason OH, Atlanta GA, Norfolk VA, Tampa FL\\n\\nHours: M - F East coast Hours of Operation\\n\\nTravel: Hybrid 1 ( 1-2 Days onsite per week)\\n\\n\\nPosition Overview:\\n\\nResponsible for serving as the liaison between the business and IT in translating complex business needs into application software. This role will be working primarily for business operations team and not specifically IT.\\n\\nHow You Will Make an Impact:\\n\\nConducting Data analysis and issue resolution regularly\\n\\nVendor interaction and stakeholder management responsibilities\\n\\nAnalyzes complex end user needs to determine optimal means of meeting those needs\\n\\nDetermines specific business application software requirements to address complex business needs\\n\\nDevelops project plans and identifies and coordinates resources, involving those outside the unit\\n\\nWorks with programming staff to ensure requirements will be incorporated into system design and testing\\n\\nActs as a resource to users of the software to address questions/issues\\n\\nMay provide direction and guidance to team members and serves as an expert for the team\\n\\nRequired Qualifications:\\n\\nRequires a BA/BS and minimum of 5 years business analysis experience; or any combination of education and experience which would provide an equivalent background.\\n\\nPreferred Qualifications:\\n\\nData analysis and issue resolution experience\\n\\nHealthcare experience is a must\\n\\nPBM (Pharmacy Benefit Management) Claims experience is a must\\n\\nAccums experience is a must\\n\\nAdvanced SQL experience is a must\\n\\nTeradata experience is a must\\n\\nExperience working in an Agile environment strongly preferred\\n\\nIf this job is assigned to any Government Business Division entity, the applicant and incumbent fall under a 'sensitive position' work designation and may be subject to additional requirements beyond those associates outside Government Business Divisions. Requirements include but are not limited to more stringent and frequent background checks and/or government clearances, segregation of duties principles, role specific training, monitoring of daily job functions, and sensitive data handling instructions. Associates in these jobs must follow the specific policies, procedures, guidelines, etc. as stated by the Government Business Division in which they are employed.\\n\\nPlease be advised that Elevance Health only accepts resumes for compensation from agencies that have a signed agreement with Elevance Health. Any unsolicited resumes, including those submitted to hiring managers, are deemed to be the property of Elevance Health.\\n\\nWho We Are\\n\\nElevance Health is a health company dedicated to improving lives and communities - and making healthcare simpler. We are a Fortune 25 company with a longstanding history in the healthcare industry, looking for leaders at all levels of the organization who are passionate about making an impact on our members and the communities we serve.\\n\\nHow We Work\\n\\nAt Elevance Health, we are creating a culture that is designed to advance our strategy but will also lead to personal and professional growth for our associates. Our values and behaviors are the root of our culture. They are how we achieve our strategy, power our business outcomes and drive our shared success - for our consumers, our associates, our communities and our business.\\n\\nWe offer a range of market-competitive total rewards that include merit increases, paid holidays, Paid Time Off, and incentive bonus programs (unless covered by a collective bargaining agreement), medical, dental, vision, short and long term disability benefits, 401(k) +match, stock purchase plan, life insurance, wellness programs and financial education resources, to name a few.\\n\\nElevance Health operates in a Hybrid Workforce Strategy. Unless specified as primarily virtual by the hiring manager, associates are required to work at an Elevance Health location at least once per week, and potentially several times per week. Specific requirements and expectations for time onsite will be discussed as part of the hiring process. Candidates must reside within 50 miles or 1-hour commute each way of a relevant Elevance Health location.\\n\\nThe health of our associates and communities is a top priority for Elevance Health. We require all new candidates in certain patient/member-facing roles to become vaccinated against COVID-19. If you are not vaccinated, your offer will be rescinded unless you provide an acceptable explanation. Elevance Health will also follow all relevant federal, state and local laws.\\n\\nElevance Health is an Equal Employment Opportunity employer and all qualified applicants will receive consideration for employment without regard to age, citizenship status, color, creed, disability, ethnicity, genetic information, gender (including gender identity and gender expression), marital status, national origin, race, religion, sex, sexual orientation, veteran status or any other status or condition protected by applicable federal, state, or local laws. Applicants who require accommodation to participate in the job application process may contact elevancehealthjobssupport@elevancehealth.comfor assistance.\\n\\nShow more\", 'avg_salary': '$72,868\\n/yr (est.)', 'size': '10000+ Employees', 'found_year': '2004', 'industry': 'Health Care Services & Hospitals', 'sector': 'Healthcare'}]\n",
    "\n",
    "\n"
   ]
  },
  {
   "cell_type": "code",
   "execution_count": 70,
   "metadata": {},
   "outputs": [],
   "source": [
    "test_input =[{'position_info': 'Elevance Health\\n3.7\\nBusiness Operations Analyst II\\nIndianapolis, IN', 'if_easy_apply': 'Apply on employer site', 'jd': 'Location: Indianapolis IN, Mason OH, Atlanta GA, Norfolk VA, Tampa FL\\n\\nHours: M - F East coast Hours of Operation\\n\\nTravel: Hybrid 1 (1-2 Days onsite per week)\\n\\n\\nPosition Overview:\\n\\nResponsible for serving as the liaison between the business and IT in translating complex business needs into application software. This role will be working primarily for business operations team and not specifically IT. This role is created to support the claims audit function of PBM operations.\\n\\nHow You Will Make an Impact:\\n\\nWill be conducting Data analysis and issue resolution regularly\\n\\nWorking with Claims audit responsibilities frequently\\n\\nStatus reporting responsibilities to various levels of management\\n\\nAnalyzes business needs to determine optimal means of meeting those needs\\n\\nDetermines specific business application software requirements to address specific business needs\\n\\nWorks with programming staff to ensure requirements will be incorporated into system design and testing\\n\\nActs as liaison with users of the software to address questions/issues\\n\\nRequired Qualifications:\\n\\nRequires a BA/BS and minimum of 3 years related business analysis experience, or any combination of education and experience, which would provide an equivalent background.\\n\\nPreferred Qualifications:\\n\\nExperience working in an Agile environment is a must\\n\\nPBM Claims audit experience is a must\\n\\nClaims and benefits review experience preferred\\n\\nData analysis and issue resolution experience\\n\\nSQL and Teradata experience preferred\\n\\nHealthcare experience strongly preferred\\n\\nHealthcare Vendor interaction experience strongly preferred\\n\\nFor URAC accredited areas, the following professional competencies apply: Associates in this role are expected to have strong oral, written and interpersonal communication skills, problem-solving skills, facilitation skills, and analytical skills.\\n\\nIf this job is assigned to any Government Business Division entity, the applicant and incumbent fall under a `sensitive position¿ work designation and may be subject to additional requirements beyond those associates outside Government Business Divisions. Requirements include but are not limited to more stringent and frequent background checks and/or government clearances, segregation of duties principles, role specific training, monitoring of daily job functions, and sensitive data handling instructions. Associates in these jobs must follow the specific policies, procedures, guidelines, etc. as stated by the Government Business Division in which they are employed.\\n\\nPlease be advised that Elevance Health only accepts resumes for compensation from agencies that have a signed agreement with Elevance Health. Any unsolicited resumes, including those submitted to hiring managers, are deemed to be the property of Elevance Health.\\n\\nWho We Are\\n\\nElevance Health is a health company dedicated to improving lives and communities - and making healthcare simpler. We are a Fortune 25 company with a longstanding history in the healthcare industry, looking for leaders at all levels of the organization who are passionate about making an impact on our members and the communities we serve.\\n\\nHow We Work\\n\\nAt Elevance Health, we are creating a culture that is designed to advance our strategy but will also lead to personal and professional growth for our associates. Our values and behaviors are the root of our culture. They are how we achieve our strategy, power our business outcomes and drive our shared success - for our consumers, our associates, our communities and our business.\\n\\nWe offer a range of market-competitive total rewards that include merit increases, paid holidays, Paid Time Off, and incentive bonus programs (unless covered by a collective bargaining agreement), medical, dental, vision, short and long term disability benefits, 401(k) +match, stock purchase plan, life insurance, wellness programs and financial education resources, to name a few.\\n\\nElevance Health operates in a Hybrid Workforce Strategy. Unless specified as primarily virtual by the hiring manager, associates are required to work at an Elevance Health location at least once per week, and potentially several times per week. Specific requirements and expectations for time onsite will be discussed as part of the hiring process. Candidates must reside within 50 miles or 1-hour commute each way of a relevant Elevance Health location.\\n\\nThe health of our associates and communities is a top priority for Elevance Health. We require all new candidates in certain patient/member-facing roles to become vaccinated against COVID-19. If you are not vaccinated, your offer will be rescinded unless you provide an acceptable explanation. Elevance Health will also follow all relevant federal, state and local laws.\\n\\nElevance Health is an Equal Employment Opportunity employer and all qualified applicants will receive consideration for employment without regard to age, citizenship status, color, creed, disability, ethnicity, genetic information, gender (including gender identity and gender expression), marital status, national origin, race, religion, sex, sexual orientation, veteran status or any other status or condition protected by applicable federal, state, or local laws. Applicants who require accommodation to participate in the job application process may contact elevancehealthjobssupport@elevancehealth.comfor assistance.\\n\\nShow more', 'avg_salary': '$68,167\\n/yr (est.)', 'size': '10000+ Employees', 'found_year': '2004', 'industry': 'Health Care Services & Hospitals', 'sector': 'Healthcare'}, {'position_info': 'Clopay Corporation\\n2.8\\nOracle Configurator Analyst\\nTroy, OH', 'if_easy_apply': 'Easy Apply', 'jd': \"Clopay Corporation is North America's largest residential garage door manufacturer. We pride ourselves on delivering exceptional customer service as well as unsurpassed quality and innovative products. Our employees are the cornerstone of our success and we are looking for dynamic individuals to join our team. We have an excellent opportunity for an Oracle Business Analyst in our Troy, Ohio manufacturing location.\\n\\nIn this position, the successful candidate will perform the following job responsibilities:\\n\\nParticipate in Oracle ERP system implementation and design, including the development and ongoing maintenance of configuration rules using the Oracle Product Configurator.\\nEnsure optimum configuration model design to satisfy “Assemble To Order” (ATO) and “Pick to Order” (PTO) business requirements of manufacturing and distribution locations.\\nAnalyze both large and small Engineering projects to develop appropriate solutions.\\nUnderstand the function of all Oracle item attributes, and ensure that they are correctly assigned to achieve expected behavior in all related Oracle modules.\\nCreate SQL queries to systematically identify item attribute settings, and to confirm changes and corrections.\\nUnderstand all technical aspects of the Oracle Product Configurator, including new Fusion engine and user interfaces.\\nDesign and develop configurator extensions, as necessary, to address complex problems that cannot be solved using standard Oracle Product Configurator functionality.\\nHave a detailed understanding of Oracle iStore; in particular, its interactions with the Oracle Product Configurator.\\nBe familiar with all Engineering documents (including AutoCad drawings), and use them as a reference for product specifications. Make suggestions for improvement or corrections to these documents whenever possible.\\nActively participate in the Engineering Change Order (ECO) process and ensure that agreed-upon implementation dates are met.\\nEnsure the accuracy of all standard item bills of materials. Plan updates appropriately to ensure that mass changes are made efficiently and correctly.\\nCreate test plans, cases, and scripts to ensure that item, bill of material, and configuration rule changes can be verified thoroughly and efficiently. Follow Oracle Application Implementation Methodology and ensure that Sarbanes-Oxley documentation and testing requirements are met. User version control system (Visual SafeSource) for Oracle Product Configurator extensions.\\nPerform technical service functions, including trouble-shooting and the debugging of system issues.\\nParticipate in system reengineering, in relation to product configuration and bills of material. Originate new ideas whenever possible.\\nHave working knowledge of Oracle modules (Order Management, Purchasing, Planning (ASCP), Work in Process (WIP), Accounting, Advanced Pricing, etc.) that use item and bill of material data. Understand the function and data requirements of CBPC’s customer shop floor control system, and how it interfaces with Oracle. Work closely with IT to support and improve manufacturing automation.\\nMaintain equipment, software, and supplies necessary to perform assigned duties and make recommendations for additional equipment or software (such as upgrades) as needed.\\nBe familiar with basic AutoCad and AutoVue functionality, in particular as they pertain to CBPC’s automated shop drawing program.\\nAssume responsibilities for projects as assigned by Manager.\\nTravel as required.\\n\\nJob Requirements:\\n\\nBachelor’s degree in Engineering, Computer Science, Mathematics or other technical degree or equivalent education plus experience.\\nMinimum of 5 years’ experience in engineering related business system environment, such as Product Data Management, Product Configuration, and/or ERP business system design and implementation.\\nAbility to read, write, and interpret engineering documents and drawings.\\nMust be able to translate engineering/computer terminology into understandable English (both written and oral) for customers, Marketing, Sales and others.\\nAbility to document procedures and processes (using Oracle Application Implementation Methodology) including test cases and script.\\nStrong math skills.\\nExperience using the following languages: SQL, PL/SQL, and Java.\\n\\nWe offer competitive pay, a comprehensive benefits package including Medical, Dental, 401(k), Short-Term Disability, Life Insurance and Educational Assistance. Please visit our website at\\nURL blocked - click to apply to learn more about our company. An Equal Opportunity Employer, providing a d\\nLocation\\nTroy, OH (Onsite)\\nJob Type\\nEngineering, Information Technology, Manufacturing\\nExperience\\nNot Specified\\nDate Posted\\n05/08/2023\\n\\nJob Type: Full-time\\n\\nPay: $90,000.00 - $130\\nLocation\\nTroy, OH (Onsite)\\nJob Type\\nEngineering, Information Technology, Manufacturing\\nExperience\\nNot Specified\\nDate Posted\\n05/08/2023\\n\\nJob Type: Full-time\\n\\nPay: $90,000.00 - $130,000.00 per year\\n\\nBenefits:\\n\\n401(k)\\n401(k) matching\\nDental insurance\\nEmployee assistance program\\nEmployee discount\\nFlexible spending account\\nHealth insurance\\nHealth savings account\\nLife insurance\\nPaid time off\\nProfessional development assistance\\nReferral program\\nTuition reimbursement\\nVision insurance\\n\\nSchedule:\\n\\n8 hour shift\\nDay shift\\nMonday to Friday\\n\\nWork Location: In person\\n\\nShow more\", 'avg_salary': '$110,000\\n/yr (est.)', 'size': '1001 to 5000 Employees', 'found_year': '1986', 'industry': 'Home Furniture & Housewares Stores', 'sector': 'Retail & Wholesale'}, {'position_info': 'Elevance Health\\n3.7\\nBusiness Operations Analyst III\\nIndianapolis, IN', 'if_easy_apply': 'Apply on employer site', 'jd': \"Location: Indianapolis IN, Mason OH, Atlanta GA, Norfolk VA, Tampa FL\\n\\nHours: M - F East coast Hours of Operation\\n\\nTravel: Hybrid 1 ( 1-2 Days onsite per week)\\n\\n\\nPosition Overview:\\n\\nResponsible for serving as the liaison between the business and IT in translating complex business needs into application software. This role will be working primarily for business operations team and not specifically IT.\\n\\nHow You Will Make an Impact:\\n\\nConducting Data analysis and issue resolution regularly\\n\\nVendor interaction and stakeholder management responsibilities\\n\\nAnalyzes complex end user needs to determine optimal means of meeting those needs\\n\\nDetermines specific business application software requirements to address complex business needs\\n\\nDevelops project plans and identifies and coordinates resources, involving those outside the unit\\n\\nWorks with programming staff to ensure requirements will be incorporated into system design and testing\\n\\nActs as a resource to users of the software to address questions/issues\\n\\nMay provide direction and guidance to team members and serves as an expert for the team\\n\\nRequired Qualifications:\\n\\nRequires a BA/BS and minimum of 5 years business analysis experience; or any combination of education and experience which would provide an equivalent background.\\n\\nPreferred Qualifications:\\n\\nData analysis and issue resolution experience\\n\\nHealthcare experience is a must\\n\\nPBM (Pharmacy Benefit Management) Claims experience is a must\\n\\nAccums experience is a must\\n\\nAdvanced SQL experience is a must\\n\\nTeradata experience is a must\\n\\nExperience working in an Agile environment strongly preferred\\n\\nIf this job is assigned to any Government Business Division entity, the applicant and incumbent fall under a 'sensitive position' work designation and may be subject to additional requirements beyond those associates outside Government Business Divisions. Requirements include but are not limited to more stringent and frequent background checks and/or government clearances, segregation of duties principles, role specific training, monitoring of daily job functions, and sensitive data handling instructions. Associates in these jobs must follow the specific policies, procedures, guidelines, etc. as stated by the Government Business Division in which they are employed.\\n\\nPlease be advised that Elevance Health only accepts resumes for compensation from agencies that have a signed agreement with Elevance Health. Any unsolicited resumes, including those submitted to hiring managers, are deemed to be the property of Elevance Health.\\n\\nWho We Are\\n\\nElevance Health is a health company dedicated to improving lives and communities - and making healthcare simpler. We are a Fortune 25 company with a longstanding history in the healthcare industry, looking for leaders at all levels of the organization who are passionate about making an impact on our members and the communities we serve.\\n\\nHow We Work\\n\\nAt Elevance Health, we are creating a culture that is designed to advance our strategy but will also lead to personal and professional growth for our associates. Our values and behaviors are the root of our culture. They are how we achieve our strategy, power our business outcomes and drive our shared success - for our consumers, our associates, our communities and our business.\\n\\nWe offer a range of market-competitive total rewards that include merit increases, paid holidays, Paid Time Off, and incentive bonus programs (unless covered by a collective bargaining agreement), medical, dental, vision, short and long term disability benefits, 401(k) +match, stock purchase plan, life insurance, wellness programs and financial education resources, to name a few.\\n\\nElevance Health operates in a Hybrid Workforce Strategy. Unless specified as primarily virtual by the hiring manager, associates are required to work at an Elevance Health location at least once per week, and potentially several times per week. Specific requirements and expectations for time onsite will be discussed as part of the hiring process. Candidates must reside within 50 miles or 1-hour commute each way of a relevant Elevance Health location.\\n\\nThe health of our associates and communities is a top priority for Elevance Health. We require all new candidates in certain patient/member-facing roles to become vaccinated against COVID-19. If you are not vaccinated, your offer will be rescinded unless you provide an acceptable explanation. Elevance Health will also follow all relevant federal, state and local laws.\\n\\nElevance Health is an Equal Employment Opportunity employer and all qualified applicants will receive consideration for employment without regard to age, citizenship status, color, creed, disability, ethnicity, genetic information, gender (including gender identity and gender expression), marital status, national origin, race, religion, sex, sexual orientation, veteran status or any other status or condition protected by applicable federal, state, or local laws. Applicants who require accommodation to participate in the job application process may contact elevancehealthjobssupport@elevancehealth.comfor assistance.\\n\\nShow more\", 'avg_salary': '$72,868\\n/yr (est.)', 'size': '10000+ Employees', 'found_year': '2004', 'industry': 'Health Care Services & Hospitals', 'sector': 'Healthcare'}]\n"
   ]
  },
  {
   "cell_type": "code",
   "execution_count": 71,
   "metadata": {},
   "outputs": [
    {
     "data": {
      "text/plain": [
       "[{'position_info': {'company_name': 'Elevance Health',\n",
       "   'company_rate': '3.7',\n",
       "   'position_name': 'Business Operations Analyst II',\n",
       "   'company_location_state': 'IN',\n",
       "   'company_location_city': 'Indianapolis'},\n",
       "  'if_easy_apply': False,\n",
       "  'jd': {'Python': False,\n",
       "   'machine learning': False,\n",
       "   'SQL': True,\n",
       "   'Spark': False,\n",
       "   'Tableau': False,\n",
       "   'Java': False,\n",
       "   'Scala': False,\n",
       "   'R': False,\n",
       "   'AI': False,\n",
       "   'ML': False},\n",
       "  'avg_salary': {'hourly_or_yearly_rate': 'yr (est.)', 'year_salary': 68167},\n",
       "  'size': '10000+ Employees',\n",
       "  'found_year': '2004',\n",
       "  'industry': 'Health Care Services & Hospitals',\n",
       "  'sector': 'Healthcare'},\n",
       " {'position_info': {'company_name': 'Clopay Corporation',\n",
       "   'company_rate': '2.8',\n",
       "   'position_name': 'Oracle Configurator Analyst',\n",
       "   'company_location_state': 'OH',\n",
       "   'company_location_city': 'Troy'},\n",
       "  'if_easy_apply': True,\n",
       "  'jd': {'Python': False,\n",
       "   'machine learning': False,\n",
       "   'SQL': True,\n",
       "   'Spark': False,\n",
       "   'Tableau': False,\n",
       "   'Java': True,\n",
       "   'Scala': False,\n",
       "   'R': False,\n",
       "   'AI': False,\n",
       "   'ML': False},\n",
       "  'avg_salary': {'hourly_or_yearly_rate': 'yr (est.)', 'year_salary': 110000},\n",
       "  'size': '1001 to 5000 Employees',\n",
       "  'found_year': '1986',\n",
       "  'industry': 'Home Furniture & Housewares Stores',\n",
       "  'sector': 'Retail & Wholesale'},\n",
       " {'position_info': {'company_name': 'Elevance Health',\n",
       "   'company_rate': '3.7',\n",
       "   'position_name': 'Business Operations Analyst III',\n",
       "   'company_location_state': 'IN',\n",
       "   'company_location_city': 'Indianapolis'},\n",
       "  'if_easy_apply': False,\n",
       "  'jd': {'Python': False,\n",
       "   'machine learning': False,\n",
       "   'SQL': True,\n",
       "   'Spark': False,\n",
       "   'Tableau': False,\n",
       "   'Java': False,\n",
       "   'Scala': False,\n",
       "   'R': False,\n",
       "   'AI': False,\n",
       "   'ML': False},\n",
       "  'avg_salary': {'hourly_or_yearly_rate': 'yr (est.)', 'year_salary': 72868},\n",
       "  'size': '10000+ Employees',\n",
       "  'found_year': '2004',\n",
       "  'industry': 'Health Care Services & Hospitals',\n",
       "  'sector': 'Healthcare'}]"
      ]
     },
     "execution_count": 71,
     "metadata": {},
     "output_type": "execute_result"
    }
   ],
   "source": [
    "test_input"
   ]
  },
  {
   "cell_type": "code",
   "execution_count": null,
   "metadata": {},
   "outputs": [],
   "source": []
  }
 ],
 "metadata": {
  "kernelspec": {
   "display_name": "glassdooretl",
   "language": "python",
   "name": "python3"
  },
  "language_info": {
   "codemirror_mode": {
    "name": "ipython",
    "version": 3
   },
   "file_extension": ".py",
   "mimetype": "text/x-python",
   "name": "python",
   "nbconvert_exporter": "python",
   "pygments_lexer": "ipython3",
   "version": "3.10.10"
  }
 },
 "nbformat": 4,
 "nbformat_minor": 2
}
