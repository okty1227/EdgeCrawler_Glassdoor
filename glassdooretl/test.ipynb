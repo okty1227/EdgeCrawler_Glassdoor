{
 "cells": [
  {
   "cell_type": "code",
   "execution_count": 23,
   "metadata": {},
   "outputs": [
    {
     "name": "stdout",
     "output_type": "stream",
     "text": [
      "执行时间: 0.0003554999711923301 秒\n",
      "text\n",
      "0\n"
     ]
    },
    {
     "name": "stdout",
     "output_type": "stream",
     "text": [
      "1\n",
      "2\n",
      "3\n",
      "text\n",
      "4\n",
      "5\n",
      "6\n",
      "7\n",
      "8\n",
      "9\n"
     ]
    }
   ],
   "source": [
    "import asyncio\n",
    "from time import perf_counter\n",
    "import time\n",
    "start_time = perf_counter()\n",
    "\n",
    "async def boo(): \n",
    "    for i in range(10):\n",
    "        print(i)\n",
    "        await asyncio.sleep(0.25)\n",
    "\n",
    "async def foo(text): \n",
    "    print(text)    \n",
    "    await asyncio.sleep(1)\n",
    "    print(text)\n",
    "    \n",
    "async def main():\n",
    "    task1 = asyncio.create_task(foo('text'))\n",
    "    task2 = asyncio.create_task(boo())\n",
    "    \n",
    "await main() \n",
    "\n",
    "end_time = perf_counter()\n",
    "\n",
    "# 计算执行时间\n",
    "execution_time = end_time - start_time\n",
    "\n",
    "print(f\"执行时间: {execution_time} 秒\")"
   ]
  },
  {
   "cell_type": "code",
   "execution_count": 27,
   "metadata": {},
   "outputs": [
    {
     "data": {
      "text/plain": [
       "False"
      ]
     },
     "execution_count": 27,
     "metadata": {},
     "output_type": "execute_result"
    }
   ],
   "source": [
    "[1] is False"
   ]
  },
  {
   "cell_type": "code",
   "execution_count": null,
   "metadata": {},
   "outputs": [],
   "source": []
  }
 ],
 "metadata": {
  "kernelspec": {
   "display_name": "glassdooretl",
   "language": "python",
   "name": "python3"
  },
  "language_info": {
   "codemirror_mode": {
    "name": "ipython",
    "version": 3
   },
   "file_extension": ".py",
   "mimetype": "text/x-python",
   "name": "python",
   "nbconvert_exporter": "python",
   "pygments_lexer": "ipython3",
   "version": "3.10.10"
  }
 },
 "nbformat": 4,
 "nbformat_minor": 2
}
